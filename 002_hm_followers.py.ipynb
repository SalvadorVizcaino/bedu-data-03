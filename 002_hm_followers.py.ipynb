{
 "cells": [
  {
   "cell_type": "markdown",
   "metadata": {},
   "source": [
    "# Descarga de Imagenes de Seguidores en GitHub"
   ]
  },
  {
   "cell_type": "markdown",
   "metadata": {},
   "source": [
    "Create a function to download all the follower's pictures given a username."
   ]
  },
  {
   "cell_type": "code",
   "execution_count": 1,
   "metadata": {},
   "outputs": [],
   "source": [
    "from datetime import datetime\n",
    "import requests\n",
    "\n",
    "\n",
    "# CONSTANTS\n",
    "URL_BASE = 'https://api.github.com/'\n",
    "\n",
    "\n",
    "# FUNTIONS\n",
    "def get_github_user(username):\n",
    "    url = f'{URL_BASE}users/{username}'\n",
    "    response = requests.get(url)\n",
    "    if response.status_code == 200:\n",
    "        return response.json()\n",
    "    return None\n",
    "\n",
    "def get_github_user_followers(username):\n",
    "    url = f'{URL_BASE}users/{username}/followers'\n",
    "    response = requests.get(url)\n",
    "    if response.status_code == 200:\n",
    "        return response.json()\n",
    "    return None\n",
    "\n",
    "def download_user_avatar(image_url,name):\n",
    "    response = requests.get(image_url)\n",
    "    name1 = name\n",
    "    if response.status_code == 200:\n",
    "        response_content = response.content\n",
    "        # for name in json_followers:\n",
    "        #     name1 = name['login']\n",
    "        filename = f'tmp/FollowersPictures/{image_filename()}{name1}.png'\n",
    "        with open(filename, 'wb') as image:\n",
    "            image.write(response_content)\n",
    "            return filename\n",
    "    return None\n",
    "\n",
    "def image_filename():\n",
    "    now = datetime.now()\n",
    "    timestamp = datetime.timestamp(now)\n",
    "    return timestamp"
   ]
  },
  {
   "cell_type": "code",
   "execution_count": 2,
   "metadata": {},
   "outputs": [
    {
     "name": "stdout",
     "output_type": "stream",
     "text": [
      "Give the user name:\tgalileoguzman\n",
      "<class 'dict'>\n",
      "<class 'list'>\n"
     ]
    }
   ],
   "source": [
    "username = input('Give the user name:\\t')\n",
    "user = get_github_user(username)\n",
    "\n",
    "print(type(get_github_user(username)))\n",
    "print(type(get_github_user_followers(username)))"
   ]
  },
  {
   "cell_type": "code",
   "execution_count": 3,
   "metadata": {},
   "outputs": [],
   "source": [
    "json_followers = get_github_user_followers(username)\n",
    "\n",
    "if user:\n",
    "    for each in json_followers:\n",
    "        download_user_avatar(each['avatar_url'],each['login'])\n",
    "else:\n",
    "    print('User not found')"
   ]
  },
  {
   "cell_type": "code",
   "execution_count": null,
   "metadata": {},
   "outputs": [],
   "source": []
  }
 ],
 "metadata": {
  "kernelspec": {
   "display_name": "Python 3",
   "language": "python",
   "name": "python3"
  },
  "language_info": {
   "codemirror_mode": {
    "name": "ipython",
    "version": 3
   },
   "file_extension": ".py",
   "mimetype": "text/x-python",
   "name": "python",
   "nbconvert_exporter": "python",
   "pygments_lexer": "ipython3",
   "version": "3.8.5"
  }
 },
 "nbformat": 4,
 "nbformat_minor": 4
}
