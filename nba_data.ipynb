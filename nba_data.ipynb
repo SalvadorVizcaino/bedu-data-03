{
 "cells": [
  {
   "cell_type": "markdown",
   "metadata": {},
   "source": [
    "### Script to download NBA Data"
   ]
  },
  {
   "cell_type": "code",
   "execution_count": 1,
   "metadata": {},
   "outputs": [
    {
     "name": "stdout",
     "output_type": "stream",
     "text": [
      "Download ready\n"
     ]
    }
   ],
   "source": [
    "import requests\n",
    "\n",
    "# CONSTANTS\n",
    "DATASET_URL = 'https://raw.githubusercontent.com/fivethirtyeight/data/master/nba-elo/nbaallelo.csv'\n",
    "FILENAME = 'tmp/NBA_DATA.csv'\n",
    "\n",
    "# Fetching data\n",
    "response = requests.get(DATASET_URL)\n",
    "response.raise_for_status() # If error finish the script\n",
    "\n",
    "# Saving data\n",
    "with open(FILENAME, 'wb') as csv_file:\n",
    "    csv_file.write(response.content)\n",
    "    \n",
    "# Finishing script\n",
    "print('Download ready')"
   ]
  },
  {
   "cell_type": "markdown",
   "metadata": {},
   "source": [
    "### Pandas implementation"
   ]
  },
  {
   "cell_type": "code",
   "execution_count": 2,
   "metadata": {},
   "outputs": [
    {
     "name": "stdout",
     "output_type": "stream",
     "text": [
      "<class 'pandas.core.frame.DataFrame'>\n"
     ]
    }
   ],
   "source": [
    "import pandas as pd\n",
    "\n",
    "nba_data = pd.read_csv(FILENAME)\n",
    "print(type(nba_data))"
   ]
  }
 ],
 "metadata": {
  "kernelspec": {
   "display_name": "Python 3",
   "language": "python",
   "name": "python3"
  },
  "language_info": {
   "codemirror_mode": {
    "name": "ipython",
    "version": 3
   },
   "file_extension": ".py",
   "mimetype": "text/x-python",
   "name": "python",
   "nbconvert_exporter": "python",
   "pygments_lexer": "ipython3",
   "version": "3.8.5"
  }
 },
 "nbformat": 4,
 "nbformat_minor": 4
}
