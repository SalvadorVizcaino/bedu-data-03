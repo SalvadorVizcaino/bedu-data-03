{
 "cells": [
  {
   "cell_type": "markdown",
   "metadata": {},
   "source": [
    "# Entrada de Empleados al Corporativo"
   ]
  },
  {
   "cell_type": "markdown",
   "metadata": {},
   "source": [
    "1. Given 10000 logs"
   ]
  },
  {
   "cell_type": "code",
   "execution_count": 4,
   "metadata": {},
   "outputs": [],
   "source": [
    "import csv\n",
    "import pandas as pd\n",
    "\n",
    "# CONSTANTS\n",
    "FILENAME = 'tmp/10000logs_csv.csv'\n",
    "employeesdf = pd.read_csv(FILENAME)"
   ]
  },
  {
   "cell_type": "markdown",
   "metadata": {},
   "source": [
    "2. Group logs by employee\n",
    "3. Numer of each category 'enter_for' a employee has entered\n",
    "    i.e. employee 1002 meeting - 52, call - 80"
   ]
  },
  {
   "cell_type": "code",
   "execution_count": 5,
   "metadata": {
    "scrolled": false
   },
   "outputs": [
    {
     "name": "stdout",
     "output_type": "stream",
     "text": [
      "enter_for    bathroom  call  lunch  meeting  payment  reports  suppliement\n",
      "employee_id                                                               \n",
      "1002              160   169    183      159      158      166          141\n",
      "1247              160   163    162      145      153      149          148\n",
      "1279              154   187    161      169      160      152          155\n",
      "2009              157   162    160      168      138      148          158\n",
      "3478              153   152    139      141      162      153          169\n",
      "6588              170   157    176      148      169      171          169\n",
      "7792              154   153    155      136      167      170          147\n",
      "7794              147   136    161      169      174      186          162\n",
      "8547              133   154    176      171      161      149          165\n"
     ]
    }
   ],
   "source": [
    "print(employeesdf.groupby('employee_id')['enter_for'].value_counts().unstack())"
   ]
  },
  {
   "cell_type": "markdown",
   "metadata": {},
   "source": [
    "4. Show hot hours for enter to the facilities"
   ]
  },
  {
   "cell_type": "code",
   "execution_count": 8,
   "metadata": {},
   "outputs": [],
   "source": [
    "# Convert timestamp to year, month, day and hours.\n",
    "employeesdf['date'] = pd.to_datetime(employeesdf['entered_at'])\n",
    "employeesdf['year'] = employeesdf['date'].dt.year\n",
    "employeesdf['month'] = employeesdf['date'].dt.month\n",
    "employeesdf['day'] = employeesdf['date'].dt.day\n",
    "employeesdf['hour'] = employeesdf['date'].dt.hour\n"
   ]
  },
  {
   "cell_type": "code",
   "execution_count": 10,
   "metadata": {},
   "outputs": [
    {
     "name": "stdout",
     "output_type": "stream",
     "text": [
      "The top 3 hot hours and qty for enter to the facilites are:\n",
      "   hour  Entradas\n",
      "4    11       876\n",
      "0     7       867\n",
      "3    10       849\n"
     ]
    }
   ],
   "source": [
    "# Show hot hours for enter to the facilities\n",
    "hothour = employeesdf.groupby(['hour'])['enter_for'].value_counts().reset_index(name='Entradas')\n",
    "hothour1 = hothour.sort_values(['Entradas'],ascending=[False])\n",
    "hothour2 = hothour1.groupby(['hour'])['Entradas'].sum().reset_index(name='Entradas')\n",
    "hothour3 = hothour2.sort_values(['Entradas'],ascending=[False])\n",
    "print(f'The top 3 hot hours and qty for enter to the facilites are:')\n",
    "print(hothour3.head(3))"
   ]
  },
  {
   "cell_type": "code",
   "execution_count": 11,
   "metadata": {},
   "outputs": [
    {
     "name": "stdout",
     "output_type": "stream",
     "text": [
      "The top 3 hot hours for enter to the facilites are:\n",
      "1.-hour hrs\n",
      "2.-Entradas hrs\n"
     ]
    }
   ],
   "source": [
    "# I tried this one but I don't catch it:\n",
    "print(f'The top 3 hot hours for enter to the facilites are:')\n",
    "n = 0\n",
    "for top in hothour3[1:3]:\n",
    "    n += 1\n",
    "    print(f'{n}.-{top} hrs')"
   ]
  },
  {
   "cell_type": "code",
   "execution_count": null,
   "metadata": {},
   "outputs": [],
   "source": []
  }
 ],
 "metadata": {
  "kernelspec": {
   "display_name": "Python 3",
   "language": "python",
   "name": "python3"
  },
  "language_info": {
   "codemirror_mode": {
    "name": "ipython",
    "version": 3
   },
   "file_extension": ".py",
   "mimetype": "text/x-python",
   "name": "python",
   "nbconvert_exporter": "python",
   "pygments_lexer": "ipython3",
   "version": "3.8.5"
  }
 },
 "nbformat": 4,
 "nbformat_minor": 4
}
